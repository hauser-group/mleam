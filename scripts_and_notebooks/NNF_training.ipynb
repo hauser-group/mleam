{
 "cells": [
  {
   "cell_type": "code",
   "execution_count": 1,
   "metadata": {},
   "outputs": [
    {
     "name": "stderr",
     "output_type": "stream",
     "text": [
      "2024-08-21 11:46:38.129511: I tensorflow/core/util/port.cc:111] oneDNN custom operations are on. You may see slightly different numerical results due to floating-point round-off errors from different computation orders. To turn them off, set the environment variable `TF_ENABLE_ONEDNN_OPTS=0`.\n",
      "2024-08-21 11:46:38.132087: I tensorflow/tsl/cuda/cudart_stub.cc:28] Could not find cuda drivers on your machine, GPU will not be used.\n",
      "2024-08-21 11:46:38.156254: E tensorflow/compiler/xla/stream_executor/cuda/cuda_dnn.cc:9342] Unable to register cuDNN factory: Attempting to register factory for plugin cuDNN when one has already been registered\n",
      "2024-08-21 11:46:38.156288: E tensorflow/compiler/xla/stream_executor/cuda/cuda_fft.cc:609] Unable to register cuFFT factory: Attempting to register factory for plugin cuFFT when one has already been registered\n",
      "2024-08-21 11:46:38.156317: E tensorflow/compiler/xla/stream_executor/cuda/cuda_blas.cc:1518] Unable to register cuBLAS factory: Attempting to register factory for plugin cuBLAS when one has already been registered\n",
      "2024-08-21 11:46:38.161562: I tensorflow/tsl/cuda/cudart_stub.cc:28] Could not find cuda drivers on your machine, GPU will not be used.\n",
      "2024-08-21 11:46:38.162231: I tensorflow/core/platform/cpu_feature_guard.cc:182] This TensorFlow binary is optimized to use available CPU instructions in performance-critical operations.\n",
      "To enable the following instructions: AVX2 AVX512F AVX512_VNNI AVX512_BF16 FMA, in other operations, rebuild TensorFlow with the appropriate compiler flags.\n",
      "2024-08-21 11:46:38.749336: W tensorflow/compiler/tf2tensorrt/utils/py_utils.cc:38] TF-TRT Warning: Could not find TensorRT\n"
     ]
    }
   ],
   "source": [
    "import tensorflow as tf\n",
    "import numpy as np\n",
    "from mleam.data_prep import dataset_from_json\n",
    "from mleam.models import NNEmbeddingModel\n",
    "import os"
   ]
  },
  {
   "cell_type": "code",
   "execution_count": 2,
   "metadata": {},
   "outputs": [],
   "source": [
    "type_dict = {\"Ni\": 0, \"Pt\": 1}\n",
    "\n",
    "dataset_train = dataset_from_json(\"../data/train_data.json\", type_dict, batch_size=20)\n",
    "dataset_val = dataset_from_json(\"../data/val_data.json\", type_dict)"
   ]
  },
  {
   "cell_type": "code",
   "execution_count": 3,
   "metadata": {},
   "outputs": [],
   "source": [
    "params = {\n",
    "    (\"A\", \"PtPt\"): 0.1602,\n",
    "    (\"A\", \"NiPt\"): 0.1346,\n",
    "    (\"A\", \"NiNi\"): 0.0845,\n",
    "    (\"xi\", \"PtPt\"): 2.1855,\n",
    "    (\"xi\", \"NiPt\"): 2.3338,\n",
    "    (\"xi\", \"NiNi\"): 1.405,\n",
    "    (\"p\", \"PtPt\"): 13.00,\n",
    "    (\"p\", \"NiPt\"): 14.838,\n",
    "    (\"p\", \"NiNi\"): 11.73,\n",
    "    (\"q\", \"PtPt\"): 3.13,\n",
    "    (\"q\", \"NiPt\"): 3.036,\n",
    "    (\"q\", \"NiNi\"): 1.93,\n",
    "    (\"r0\", \"PtPt\"): 2.775,\n",
    "    (\"r0\", \"NiPt\"): 2.633,\n",
    "    (\"r0\", \"NiNi\"): 2.491,\n",
    "    (\"F_layers\", \"Ni\"): [15, 15],\n",
    "    (\"F_layers\", \"Pt\"): [15, 15],\n",
    "}\n",
    "\n",
    "for atom_types in [\"PtPt\", \"NiPt\", \"NiNi\"]:\n",
    "    a = params[(\"r0\", atom_types)] * np.sqrt(2)\n",
    "    # Inner cutoff fourth neighbor distance (fcc)\n",
    "    params[(\"cut_a\", atom_types)] = a * np.sqrt(2)\n",
    "    # Outer cutoff fifth neighbor distance (fcc)\n",
    "    params[(\"cut_b\", atom_types)] = a * np.sqrt(5 / 2)\n",
    "\n",
    "model = NNEmbeddingModel([\"Ni\", \"Pt\"], params=params, reg=1e-5, build_forces=True)"
   ]
  },
  {
   "cell_type": "code",
   "execution_count": 4,
   "metadata": {},
   "outputs": [],
   "source": [
    "model.compile(\n",
    "    optimizer=tf.keras.optimizers.Adam(),\n",
    "    loss={\n",
    "        \"energy_per_atom\": tf.keras.losses.MeanSquaredError(),\n",
    "        \"forces\": tf.keras.losses.MeanSquaredError(),\n",
    "    },\n",
    ")"
   ]
  },
  {
   "cell_type": "code",
   "execution_count": 5,
   "metadata": {},
   "outputs": [],
   "source": [
    "run_name = \"NNF/lambda1E-5/15-15/\"\n",
    "if not os.path.exists(\"./saved_models/%s\" % run_name):\n",
    "    os.makedirs(\"./saved_models/%s\" % run_name)\n",
    "my_callbacks = [\n",
    "    tf.keras.callbacks.ModelCheckpoint(\n",
    "        filepath=\"./saved_models/%s/model.{epoch:03d}-{val_loss:.4f}.h5\" % run_name,\n",
    "        save_weights_only=True,\n",
    "        monitor=\"val_loss\",\n",
    "        save_best_only=True,\n",
    "        mode=\"min\",\n",
    "    ),\n",
    "    tf.keras.callbacks.EarlyStopping(\n",
    "        monitor=\"val_loss\",\n",
    "        patience=10,\n",
    "        mode=\"min\",\n",
    "        restore_best_weights=True,\n",
    "    ),\n",
    "    tf.keras.callbacks.TensorBoard(log_dir=\"./logs/%s/\" % run_name),\n",
    "]"
   ]
  },
  {
   "cell_type": "code",
   "execution_count": 6,
   "metadata": {},
   "outputs": [
    {
     "name": "stdout",
     "output_type": "stream",
     "text": [
      "Epoch 1/2\n",
      "WARNING:tensorflow:From /home/ralf/Development/miniconda3/envs/mleam/lib/python3.10/site-packages/tensorflow/python/ops/ragged/ragged_map_ops.py:156: calling map_fn (from tensorflow.python.ops.map_fn) with dtype is deprecated and will be removed in a future version.\n",
      "Instructions for updating:\n",
      "Use fn_output_signature instead\n",
      "61/61 [==============================] - 57s 514ms/step - loss: 0.2107 - energy_per_atom_loss: 0.0983 - forces_loss: 0.1121 - val_loss: 0.1039 - val_energy_per_atom_loss: 0.0260 - val_forces_loss: 0.0776\n",
      "Epoch 2/2\n",
      "61/61 [==============================] - 30s 487ms/step - loss: 0.1066 - energy_per_atom_loss: 0.0304 - forces_loss: 0.0759 - val_loss: 0.0939 - val_energy_per_atom_loss: 0.0203 - val_forces_loss: 0.0732\n"
     ]
    },
    {
     "data": {
      "text/plain": [
       "<keras.src.callbacks.History at 0x7ff004132d10>"
      ]
     },
     "execution_count": 6,
     "metadata": {},
     "output_type": "execute_result"
    }
   ],
   "source": [
    "model.fit(\n",
    "    x=dataset_train,\n",
    "    validation_data=dataset_val,\n",
    "    epochs=2,\n",
    "    callbacks=my_callbacks,\n",
    "    initial_epoch=0,\n",
    ")"
   ]
  },
  {
   "cell_type": "code",
   "execution_count": 7,
   "metadata": {},
   "outputs": [
    {
     "name": "stdout",
     "output_type": "stream",
     "text": [
      "1/1 [==============================] - 1s 903ms/step - loss: 0.1329 - energy_per_atom_loss: 0.0700 - forces_loss: 0.0626\n"
     ]
    },
    {
     "data": {
      "text/plain": [
       "[0.13290999829769135, 0.06997953355312347, 0.06260979175567627]"
      ]
     },
     "execution_count": 7,
     "metadata": {},
     "output_type": "execute_result"
    }
   ],
   "source": [
    "dataset_test = dataset_from_json(\"../data/test_data.json\", type_dict)\n",
    "model.evaluate(dataset_test)"
   ]
  },
  {
   "cell_type": "code",
   "execution_count": 8,
   "metadata": {},
   "outputs": [
    {
     "data": {
      "text/plain": [
       "[<tf.Variable 'A_NiNi:0' shape=(1,) dtype=float32, numpy=array([0.05877375], dtype=float32)>,\n",
       " <tf.Variable 'A_NiPt:0' shape=(1,) dtype=float32, numpy=array([0.12281458], dtype=float32)>,\n",
       " <tf.Variable 'A_PtPt:0' shape=(1,) dtype=float32, numpy=array([0.15434523], dtype=float32)>]"
      ]
     },
     "execution_count": 8,
     "metadata": {},
     "output_type": "execute_result"
    }
   ],
   "source": [
    "model.weights[0:6:2]"
   ]
  },
  {
   "cell_type": "code",
   "execution_count": 9,
   "metadata": {},
   "outputs": [
    {
     "data": {
      "text/plain": [
       "[<tf.Variable 'p_NiNi:0' shape=(1,) dtype=float32, numpy=array([11.763502], dtype=float32)>,\n",
       " <tf.Variable 'p_NiPt:0' shape=(1,) dtype=float32, numpy=array([14.786839], dtype=float32)>,\n",
       " <tf.Variable 'p_PtPt:0' shape=(1,) dtype=float32, numpy=array([12.995765], dtype=float32)>]"
      ]
     },
     "execution_count": 9,
     "metadata": {},
     "output_type": "execute_result"
    }
   ],
   "source": [
    "model.weights[1:7:2]"
   ]
  },
  {
   "cell_type": "code",
   "execution_count": 10,
   "metadata": {},
   "outputs": [
    {
     "data": {
      "text/plain": [
       "[<tf.Variable 'xi_NiNi:0' shape=(1,) dtype=float32, numpy=array([1.4420654], dtype=float32)>,\n",
       " <tf.Variable 'xi_NiPt:0' shape=(1,) dtype=float32, numpy=array([2.303087], dtype=float32)>,\n",
       " <tf.Variable 'xi_PtPt:0' shape=(1,) dtype=float32, numpy=array([2.1893072], dtype=float32)>]"
      ]
     },
     "execution_count": 10,
     "metadata": {},
     "output_type": "execute_result"
    }
   ],
   "source": [
    "model.weights[15:21:2]"
   ]
  },
  {
   "cell_type": "code",
   "execution_count": 11,
   "metadata": {},
   "outputs": [
    {
     "data": {
      "text/plain": [
       "[<tf.Variable 'q_NiNi:0' shape=(1,) dtype=float32, numpy=array([1.9565308], dtype=float32)>,\n",
       " <tf.Variable 'q_NiPt:0' shape=(1,) dtype=float32, numpy=array([3.0835903], dtype=float32)>,\n",
       " <tf.Variable 'q_PtPt:0' shape=(1,) dtype=float32, numpy=array([3.1774182], dtype=float32)>]"
      ]
     },
     "execution_count": 11,
     "metadata": {},
     "output_type": "execute_result"
    }
   ],
   "source": [
    "model.weights[16:22:2]"
   ]
  },
  {
   "cell_type": "code",
   "execution_count": null,
   "metadata": {},
   "outputs": [],
   "source": []
  }
 ],
 "metadata": {
  "kernelspec": {
   "display_name": "mleam",
   "language": "python",
   "name": "python3"
  },
  "language_info": {
   "codemirror_mode": {
    "name": "ipython",
    "version": 3
   },
   "file_extension": ".py",
   "mimetype": "text/x-python",
   "name": "python",
   "nbconvert_exporter": "python",
   "pygments_lexer": "ipython3",
   "version": "3.10.13"
  }
 },
 "nbformat": 4,
 "nbformat_minor": 4
}
